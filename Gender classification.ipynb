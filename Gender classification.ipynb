{
 "cells": [
  {
   "cell_type": "markdown",
   "metadata": {},
   "source": [
    "# Gender Classification "
   ]
  },
  {
   "cell_type": "code",
   "execution_count": 92,
   "metadata": {},
   "outputs": [],
   "source": [
    "#classification will occour upon height, weight, shoe size (Features)"
   ]
  },
  {
   "cell_type": "code",
   "execution_count": 93,
   "metadata": {},
   "outputs": [],
   "source": [
    "from sklearn import tree\n",
    "from sklearn.model_selection import cross_val_score\n",
    "from sklearn.cross_validation import train_test_split\n",
    "from sklearn import metrics "
   ]
  },
  {
   "cell_type": "code",
   "execution_count": 94,
   "metadata": {},
   "outputs": [
    {
     "name": "stdout",
     "output_type": "stream",
     "text": [
      "Training data: [[160, 60, 38], [177, 70, 43], [159, 55, 37], [166, 65, 40], [177, 70, 40], [154, 54, 37], [175, 64, 39]]\n",
      "Testing Data: [[190, 90, 47], [181, 80, 44], [171, 75, 42], [181, 85, 43]]\n"
     ]
    }
   ],
   "source": [
    "#[height, weight, shoe size]\n",
    "X = [[181, 80, 44], [177, 70, 43], [160, 60, 38], [154, 54, 37], [166, 65, 40],\n",
    "     [190, 90, 47], [175, 64, 39],\n",
    "     [177, 70, 40], [159, 55, 37], [171, 75, 42], [181, 85, 43]]\n",
    "\n",
    "Y = ['male', 'male', 'female', 'female', 'male', 'male', 'female', 'female', 'female', 'male', 'male']\n",
    "\n",
    "\n",
    "\n",
    "X_train, X_test, y_train, y_test = train_test_split(X, Y, test_size=0.3, random_state=42)\n",
    "\n",
    "\n",
    "# train, test = train_test_split(X, Y, test_size=0.3) # our main data split into train and test\n",
    "# # the attribute test_size=0.3 splits the data into 70% and 30% ratio. train=70% and test=30%\n",
    "print(\"Training data: {}\".format(X_train))\n",
    "print(\"Testing Data: {}\".format(X_test))"
   ]
  },
  {
   "cell_type": "markdown",
   "metadata": {},
   "source": [
    "# Trying with DecisionTreeClassifier"
   ]
  },
  {
   "cell_type": "code",
   "execution_count": 95,
   "metadata": {},
   "outputs": [],
   "source": [
    "clf = tree.DecisionTreeClassifier()"
   ]
  },
  {
   "cell_type": "code",
   "execution_count": 96,
   "metadata": {},
   "outputs": [],
   "source": [
    "clf = clf.fit(X_train, y_train)\n",
    "\n",
    "prediction = clf.predict(X_test)"
   ]
  },
  {
   "cell_type": "code",
   "execution_count": 107,
   "metadata": {},
   "outputs": [
    {
     "name": "stdout",
     "output_type": "stream",
     "text": [
      "['male' 'male' 'male' 'male']\n"
     ]
    }
   ],
   "source": [
    "print(prediction)\n",
    "\n",
    "\n"
   ]
  },
  {
   "cell_type": "code",
   "execution_count": 111,
   "metadata": {},
   "outputs": [
    {
     "name": "stdout",
     "output_type": "stream",
     "text": [
      "Accuracy for DecisionTreeClassifier is: \n"
     ]
    }
   ],
   "source": [
    "# cross_val_score(clf, X_test, y_test)\n",
    "\n",
    "# accuracy = clf.score(X_test, y_test)\n",
    "# print(accuracy)\n",
    "\n",
    "\n",
    "accuracy_dec = metrics.accuracy_score(prediction, y_test)\n",
    "print (\"Accuracy for DecisionTreeClassifier is: {}\".format(accuracy_dec))"
   ]
  },
  {
   "cell_type": "markdown",
   "metadata": {},
   "source": [
    "# Trying with logistic regression\n"
   ]
  },
  {
   "cell_type": "code",
   "execution_count": 99,
   "metadata": {},
   "outputs": [],
   "source": [
    "from sklearn.linear_model import LogisticRegression"
   ]
  },
  {
   "cell_type": "code",
   "execution_count": 100,
   "metadata": {},
   "outputs": [],
   "source": [
    "logReg = LogisticRegression()"
   ]
  },
  {
   "cell_type": "code",
   "execution_count": 109,
   "metadata": {},
   "outputs": [
    {
     "name": "stdout",
     "output_type": "stream",
     "text": [
      "['male' 'male' 'male' 'male']\n"
     ]
    }
   ],
   "source": [
    "logReg.fit(X_train, y_train)\n",
    "\n",
    "logPrediction = logReg.predict(X_test)\n",
    "# logReg.score([[190, 70, 43]])\n",
    "\n",
    "print (logPrediction)"
   ]
  },
  {
   "cell_type": "code",
   "execution_count": 110,
   "metadata": {},
   "outputs": [
    {
     "name": "stdout",
     "output_type": "stream",
     "text": [
      "1.0\n"
     ]
    }
   ],
   "source": [
    "accuracy_log = metrics.accuracy_score(prediction, y_test)\n",
    "print (\"Accuracy for Logistic Regression is: {}\".format(accuracy_log))"
   ]
  },
  {
   "cell_type": "markdown",
   "metadata": {},
   "source": [
    "# Trying with SVM"
   ]
  },
  {
   "cell_type": "code",
   "execution_count": 102,
   "metadata": {},
   "outputs": [],
   "source": [
    "from sklearn import svm"
   ]
  },
  {
   "cell_type": "code",
   "execution_count": 103,
   "metadata": {},
   "outputs": [],
   "source": [
    "svmClassifier = svm.SVC()"
   ]
  },
  {
   "cell_type": "code",
   "execution_count": 105,
   "metadata": {},
   "outputs": [
    {
     "name": "stdout",
     "output_type": "stream",
     "text": [
      "['female' 'female' 'female' 'female']\n",
      "1.0\n"
     ]
    }
   ],
   "source": [
    "svmClassifier.fit(X_train, y_train)\n",
    "\n",
    "svmClassifierPrediction = svmClassifier.predict(X_test)\n",
    "print (svmClassifierPrediction)\n",
    "\n",
    "\n",
    "\n",
    "accuracy_svm = metrics.accuracy_score(prediction, y_test)\n",
    "print (\"Accuracy for Svm is: {}\".format(accuracy_svm))"
   ]
  },
  {
   "cell_type": "markdown",
   "metadata": {},
   "source": [
    "# Trying with Random Forest"
   ]
  },
  {
   "cell_type": "code",
   "execution_count": null,
   "metadata": {},
   "outputs": [],
   "source": [
    "from sklearn.ensemble import RandomForestClassifier"
   ]
  },
  {
   "cell_type": "code",
   "execution_count": 113,
   "metadata": {},
   "outputs": [
    {
     "name": "stdout",
     "output_type": "stream",
     "text": [
      "['male' 'male' 'male' 'male']\n"
     ]
    }
   ],
   "source": [
    "ranForClf = RandomForestClassifier()\n",
    "\n",
    "#Training Dataset\n",
    "ranForClf.fit(X_train, y_train)\n",
    "\n",
    "ranForClfPrediction = ranForClf.predict(X_test)\n",
    "print(ranForClfPrediction)"
   ]
  },
  {
   "cell_type": "code",
   "execution_count": 112,
   "metadata": {},
   "outputs": [
    {
     "name": "stdout",
     "output_type": "stream",
     "text": [
      "Accuracy for RandomForestClassifier is: 1.0\n"
     ]
    }
   ],
   "source": [
    "accuracy_randomF = metrics.accuracy_score(prediction, y_test)\n",
    "print (\"Accuracy for RandomForestClassifier is: {}\".format(accuracy_randomF))"
   ]
  }
 ],
 "metadata": {
  "kernelspec": {
   "display_name": "Python 3",
   "language": "python",
   "name": "python3"
  },
  "language_info": {
   "codemirror_mode": {
    "name": "ipython",
    "version": 3
   },
   "file_extension": ".py",
   "mimetype": "text/x-python",
   "name": "python",
   "nbconvert_exporter": "python",
   "pygments_lexer": "ipython3",
   "version": "3.5.2"
  }
 },
 "nbformat": 4,
 "nbformat_minor": 2
}
